{
 "cells": [
  {
   "cell_type": "markdown",
   "metadata": {},
   "source": [
    "Specimen for use in graphing outputs from my run.py script. The first cell should be filled out and the other cells should be run in order to define the graphing functions"
   ]
  },
  {
   "cell_type": "code",
   "execution_count": 33,
   "metadata": {},
   "outputs": [],
   "source": [
    "# Modules\n",
    "import pandas as pd\n",
    "import numpy as np\n",
    "import matplotlib.pyplot as plt\n",
    "%matplotlib inline"
   ]
  },
  {
   "cell_type": "code",
   "execution_count": 50,
   "metadata": {},
   "outputs": [],
   "source": [
    "## Input Goes Here\n",
    "\n",
    "# Relative path to .tsv files to be used\n",
    "inFiles = []\n",
    "\n",
    "# Legend entries in same order and quantity as files\n",
    "legendNames = []\n",
    "\n",
    "# Parameters to be graphed, taken from header.\n",
    "# All values except params are optional. Param3 is only required for 3D plots\n",
    "# Default parameters include 'Speed', 'Interval', 'RejPen', 'IdLag', 'Read.Until', 'Fold.Change'\n",
    "param1 = ''\n",
    "axis1Label = ''\n",
    "axis1Ticks = ''\n",
    "axis1Limits = ()\n",
    "\n",
    "param2 = ''\n",
    "axis2Label = ''\n",
    "axis2Ticks = ''\n",
    "axis2Limits = ()\n",
    "\n",
    "param3 = ''\n",
    "axis3Label = ''\n",
    "axis3Ticks = ''\n",
    "axis3Limits = ()"
   ]
  },
  {
   "cell_type": "code",
   "execution_count": 37,
   "metadata": {},
   "outputs": [],
   "source": [
    "# Get Data\n",
    "data = []\n",
    "for i in range(0, len(inFiles)):\n",
    "    data.append([])\n",
    "    data[i] = pd.read_csv(inFiles[i], sep='\\t')"
   ]
  },
  {
   "cell_type": "code",
   "execution_count": 52,
   "metadata": {},
   "outputs": [],
   "source": [
    "# 2D Scatter Plot Goes Here\n",
    "def TwoDPlot(series=range(0, len(inFiles))):\n",
    "    xPon = param1\n",
    "    xLab = axis1Label\n",
    "    xTick = axis1Ticks\n",
    "    xLim = axis1Limits\n",
    "    \n",
    "    yPon = param2\n",
    "    yLab = axis2Label\n",
    "    yTick = axis2Ticks\n",
    "    yLim = axis2Limits\n",
    "    \n",
    "    legends = []\n",
    "    \n",
    "    for i in series:\n",
    "        plt.plot(data[i][xPon], data[i][yPon], marker='o')\n",
    "    \n",
    "    for i in series:\n",
    "        legends.append(legendNames[i])\n",
    "    \n",
    "    plt.legend(legends)\n",
    "    \n",
    "    if xLab:\n",
    "        plt.xlabel(xLab)\n",
    "    if yLab:\n",
    "        plt.ylabel(yLab)\n",
    "    \n",
    "    if xTick:\n",
    "        plt.xticks(xTick)\n",
    "    if yTick:\n",
    "        plt.yticks(yTick)\n",
    "    \n",
    "    if xLim:\n",
    "        plt.xlim(xLim)\n",
    "    if yLim:\n",
    "        plt.ylim(yLim)\n",
    "        \n",
    "    plt.show()"
   ]
  },
  {
   "cell_type": "code",
   "execution_count": 32,
   "metadata": {},
   "outputs": [],
   "source": [
    "# Bar Plot Goes Here"
   ]
  },
  {
   "cell_type": "code",
   "execution_count": 18,
   "metadata": {},
   "outputs": [],
   "source": [
    "# 3D Scatter Plot Goes Here"
   ]
  },
  {
   "cell_type": "code",
   "execution_count": 38,
   "metadata": {},
   "outputs": [
    {
     "ename": "NameError",
     "evalue": "name 'ThreeDPlot' is not defined",
     "output_type": "error",
     "traceback": [
      "\u001b[1;31m---------------------------------------------------------------------------\u001b[0m",
      "\u001b[1;31mNameError\u001b[0m                                 Traceback (most recent call last)",
      "\u001b[1;32m<ipython-input-38-cdbdf8b7b133>\u001b[0m in \u001b[0;36m<module>\u001b[1;34m()\u001b[0m\n\u001b[0;32m      1\u001b[0m \u001b[1;31m# Run The Graphs From Here\u001b[0m\u001b[1;33m\u001b[0m\u001b[1;33m\u001b[0m\u001b[0m\n\u001b[0;32m      2\u001b[0m \u001b[0mTwoDPlot\u001b[0m\u001b[1;33m(\u001b[0m\u001b[1;33m)\u001b[0m\u001b[1;33m\u001b[0m\u001b[0m\n\u001b[1;32m----> 3\u001b[1;33m \u001b[0mThreeDPlot\u001b[0m\u001b[1;33m(\u001b[0m\u001b[1;33m)\u001b[0m\u001b[1;33m\u001b[0m\u001b[0m\n\u001b[0m\u001b[0;32m      4\u001b[0m \u001b[0mBarPlot\u001b[0m\u001b[1;33m(\u001b[0m\u001b[1;33m)\u001b[0m\u001b[1;33m\u001b[0m\u001b[0m\n",
      "\u001b[1;31mNameError\u001b[0m: name 'ThreeDPlot' is not defined"
     ]
    },
    {
     "data": {
      "image/png": "[encoded data removed]",
      "text/plain": [
       "<matplotlib.figure.Figure at 0x7fb6efe94ef0>"
      ]
     },
     "metadata": {},
     "output_type": "display_data"
    }
   ],
   "source": [
    "# Run The Graphs From Here\n",
    "TwoDPlot()\n",
    "#ThreeDPlot()\n",
    "#BarPlot()"
   ]
  }
 ],
 "metadata": {
  "kernelspec": {
   "display_name": "Python 3",
   "language": "python",
   "name": "python3"
  },
  "language_info": {
   "codemirror_mode": {
    "name": "ipython",
    "version": 3
   },
   "file_extension": ".py",
   "mimetype": "text/x-python",
   "name": "python",
   "nbconvert_exporter": "python",
   "pygments_lexer": "ipython3",
   "version": "3.5.2"
  }
 },
 "nbformat": 4,
 "nbformat_minor": 2
}
